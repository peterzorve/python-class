{
 "cells": [
  {
   "cell_type": "markdown",
   "metadata": {},
   "source": [
    "<h4 style=\"background-color: black; color: orange; font-family: Consolas, sans-serif; border-radius: 3px; padding: 3px; padding-left: 10px; \">\n",
    " 1. Class Definition\n",
    "</h4>\n"
   ]
  },
  {
   "cell_type": "code",
   "execution_count": 1,
   "metadata": {},
   "outputs": [],
   "source": [
    "class MyClass:\n",
    "    pass"
   ]
  },
  {
   "cell_type": "markdown",
   "metadata": {},
   "source": [
    "<h4 style=\"background-color: black; color: orange; font-family: Consolas, sans-serif; border-radius: 3px; padding: 3px; padding-left: 10px; \">\n",
    " 2. Attributes\n",
    "</h4>\n"
   ]
  },
  {
   "cell_type": "markdown",
   "metadata": {},
   "source": [
    "#### Attributes are variables that belong to a class. There are two types of attributes: class attributes and instance attributes\n"
   ]
  },
  {
   "cell_type": "code",
   "execution_count": 2,
   "metadata": {},
   "outputs": [],
   "source": [
    "# Class Attributes: Shared across all instances of the class.\n",
    "class MyClass:\n",
    "    class_attribute = \"I am a class attribute\""
   ]
  },
  {
   "cell_type": "code",
   "execution_count": 3,
   "metadata": {},
   "outputs": [],
   "source": [
    "# Instance Attributes: Unique to each instance of the class\n",
    "class MyClass:\n",
    "    def __init__(self, value):\n",
    "        self.instance_attribute = value"
   ]
  },
  {
   "cell_type": "markdown",
   "metadata": {},
   "source": [
    "<h4 style=\"background-color: black; color: orange; font-family: Consolas, sans-serif; border-radius: 3px; padding: 3px; padding-left: 10px; \">\n",
    " 3. Methods\n",
    "</h4>\n"
   ]
  },
  {
   "cell_type": "markdown",
   "metadata": {},
   "source": [
    "##### Methods are functions defined within a class that operate on instances of the class.\n"
   ]
  },
  {
   "cell_type": "code",
   "execution_count": 5,
   "metadata": {},
   "outputs": [],
   "source": [
    "# Instance Methods: The most common type, defined with the first parameter as self to refer to the instance\n",
    "class MyClass:\n",
    "    def instance_method(self):\n",
    "        print(\"This is an instance method.\")"
   ]
  },
  {
   "cell_type": "code",
   "execution_count": 6,
   "metadata": {},
   "outputs": [],
   "source": [
    "# Class Methods: Defined with the @classmethod decorator, and take cls as the first parameter, referring to the class itself.\n",
    "\n",
    "class MyClass:\n",
    "    @classmethod\n",
    "    def class_method(cls):\n",
    "        print(\"This is a class method.\")"
   ]
  },
  {
   "cell_type": "code",
   "execution_count": 7,
   "metadata": {},
   "outputs": [],
   "source": [
    "# Static Methods: Defined with the @staticmethod decorator, and do not take self or cls as the first parameter.\n",
    "class MyClass:\n",
    "    @staticmethod\n",
    "    def static_method():\n",
    "        print(\"This is a static method.\")"
   ]
  },
  {
   "cell_type": "code",
   "execution_count": 8,
   "metadata": {},
   "outputs": [],
   "source": [
    "# The __init__ method, known as the constructor, is a special method that initializes an instance of the class.\n",
    "\n",
    "class MyClass:\n",
    "    def __init__(self, value):\n",
    "        self.value = value"
   ]
  },
  {
   "cell_type": "markdown",
   "metadata": {},
   "source": [
    "<h4 style=\"background-color: black; color: orange; font-family: Consolas, sans-serif; border-radius: 3px; padding: 3px; padding-left: 10px; \">\n",
    " 4. Inheritance\n",
    "</h4>\n"
   ]
  },
  {
   "cell_type": "markdown",
   "metadata": {},
   "source": [
    "#### Classes can inherit attributes and methods from other classes, promoting code reuse.\n"
   ]
  },
  {
   "cell_type": "code",
   "execution_count": 9,
   "metadata": {},
   "outputs": [],
   "source": [
    "class BaseClass:\n",
    "    def base_method(self):\n",
    "        print(\"Base method\")\n",
    "\n",
    "class DerivedClass(BaseClass):\n",
    "    def derived_method(self):\n",
    "        print(\"Derived method\")"
   ]
  },
  {
   "cell_type": "markdown",
   "metadata": {},
   "source": [
    "<h4 style=\"background-color: black; color: orange; font-family: Consolas, sans-serif; border-radius: 3px; padding: 3px; padding-left: 10px; \">\n",
    " 5. Encapsulation\n",
    "</h4>\n"
   ]
  },
  {
   "cell_type": "markdown",
   "metadata": {},
   "source": [
    "#### Encapsulation restricts access to some of an object's components, which can prevent the accidental modification of data. This is done using single or double underscores.\n"
   ]
  },
  {
   "cell_type": "code",
   "execution_count": 10,
   "metadata": {},
   "outputs": [],
   "source": [
    "# Protected Attributes: Indicated by a single underscore.\n",
    "class MyClass:\n",
    "    def __init__(self):\n",
    "        self._protected_attr = \"protected\""
   ]
  },
  {
   "cell_type": "code",
   "execution_count": 11,
   "metadata": {},
   "outputs": [],
   "source": [
    "# Private Attributes: Indicated by double underscores, and name mangling is used to make them harder to access\n",
    "class MyClass:\n",
    "    def __init__(self):\n",
    "        self.__private_attr = \"private\""
   ]
  },
  {
   "cell_type": "markdown",
   "metadata": {},
   "source": [
    "<h4 style=\"background-color: black; color: orange; font-family: Consolas, sans-serif; border-radius: 3px; padding: 3px; padding-left: 10px; \">\n",
    " 6. Polymorphism\n",
    "</h4>\n"
   ]
  },
  {
   "cell_type": "markdown",
   "metadata": {},
   "source": [
    "#### Polymorphism allows methods to do different things based on the object it is acting upon, even if they share the same name.\n"
   ]
  },
  {
   "cell_type": "code",
   "execution_count": 12,
   "metadata": {},
   "outputs": [],
   "source": [
    "class Animal:\n",
    "    def speak(self):\n",
    "        pass\n",
    "\n",
    "class Dog(Animal):\n",
    "    def speak(self):\n",
    "        return \"Woof!\"\n",
    "\n",
    "class Cat(Animal):\n",
    "    def speak(self):\n",
    "        return \"Meow!\""
   ]
  },
  {
   "cell_type": "markdown",
   "metadata": {},
   "source": [
    "<h4 style=\"background-color: black; color: orange; font-family: Consolas, sans-serif; border-radius: 3px; padding: 3px; padding-left: 10px; \">\n",
    "7. Example Putting It All Together:\n",
    "</h4>\n"
   ]
  },
  {
   "cell_type": "markdown",
   "metadata": {},
   "source": [
    "class Animal:\n",
    "species = \"Animal\" # Class attribute\n",
    "\n",
    "    def __init__(self, name, age):\n",
    "        self.name = name  # Instance attribute\n",
    "        self.age = age    # Instance attribute\n",
    "\n",
    "    def speak(self):\n",
    "        raise NotImplementedError(\"Subclasses must implement this method\")\n",
    "\n",
    "    @classmethod\n",
    "    def class_info(cls):\n",
    "        return f\"This is a {cls.species}\"\n",
    "\n",
    "    @staticmethod\n",
    "    def static_info():\n",
    "        return \"Animals are multicellular organisms.\"\n",
    "\n",
    "class Dog(Animal):\n",
    "def speak(self):\n",
    "return \"Woof!\"\n",
    "\n",
    "# Creating an instance\n",
    "\n",
    "dog = Dog(\"Buddy\", 5)\n",
    "\n",
    "# Accessing attributes and methods\n",
    "\n",
    "print(dog.name) # Instance attribute\n",
    "print(Dog.species) # Class attribute\n",
    "print(dog.speak()) # Instance method\n",
    "print(Dog.class_info()) # Class method\n",
    "print(Dog.static_info()) # Static method\n"
   ]
  },
  {
   "cell_type": "markdown",
   "metadata": {},
   "source": []
  },
  {
   "cell_type": "code",
   "execution_count": null,
   "metadata": {},
   "outputs": [],
   "source": []
  },
  {
   "cell_type": "code",
   "execution_count": null,
   "metadata": {},
   "outputs": [],
   "source": []
  },
  {
   "cell_type": "code",
   "execution_count": null,
   "metadata": {},
   "outputs": [],
   "source": []
  },
  {
   "cell_type": "code",
   "execution_count": null,
   "metadata": {},
   "outputs": [],
   "source": []
  }
 ],
 "metadata": {
  "kernelspec": {
   "display_name": "Python 3",
   "language": "python",
   "name": "python3"
  },
  "language_info": {
   "codemirror_mode": {
    "name": "ipython",
    "version": 3
   },
   "file_extension": ".py",
   "mimetype": "text/x-python",
   "name": "python",
   "nbconvert_exporter": "python",
   "pygments_lexer": "ipython3",
   "version": "3.11.4"
  }
 },
 "nbformat": 4,
 "nbformat_minor": 2
}
